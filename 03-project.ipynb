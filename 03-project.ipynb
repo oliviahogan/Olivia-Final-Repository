{
 "cells": [
  {
   "cell_type": "markdown",
   "metadata": {},
   "source": [
    "# Unit 03 Project -- Chaos\n",
    "\n",
    "The purpose of this \"mini project\" is to demonstrate that you can model a chaotic system.\n",
    "\n",
    "Your project should:\n",
    "\n",
    "- clearly define the model that you are investigating.\n",
    "- use LaTeX to format mathematical equations in your narrative.\n",
    "- demonstrate properties of a chaotic system like period doubling, self-similarity, and sensitivity to initial conditions.\n",
    "- use plots to visualize the system, like a bifurcation diagram or a Poincare Map, for example.\n",
    "- calculate parameters associated with chaos like Lyapanov exponent and Feigenbaum number, $\\delta$.\n",
    "\n",
    "<div class=\"alert alert-success\">\n",
    "The mini-project should be of sufficient quality to post to github in your portfolio of work that can be shown to a potential employer.\n",
    "</div>\n",
    "\n",
    "## Format\n",
    "\n",
    "Your notebook should have the following sections.\n",
    "\n",
    "### Purpose/Abstract\n",
    "\n",
    "Clearly describe the purpose of the notebook. What are you modeling? What are you investigating? What did you find?\n",
    "\n",
    "### Theoretical Model\n",
    "\n",
    "What is the \"model\"? What are the relevant ODEs and assumptions in your model\n",
    "\n",
    "### Code\n",
    "\n",
    "Do not describe your code, unless your description is important and useful to the reader.\n",
    "\n",
    "### Validation\n",
    "\n",
    "What leads you to believe your simulation correctly models the system?\n",
    "\n",
    "### Results/Conclusion\n",
    "\n",
    "Clearly describe your results.\n",
    "\n",
    "### References\n",
    "\n",
    "Cite your sources. If your program is largely based on another program, describe your unique contributions.\n",
    "\n",
    "\n",
    "## Grading Rubric\n",
    "\n",
    "Category | Poor (0-70%) | Good (70% - 85%) | Excellent (85%-100%)\n",
    ":---: | :--- | :--- | :---\n",
    "**Narrative** | There is very little narrative. Background information is not present or lacks detail. There is no story woven with the code. Mathematical markup is not used. No citations are included. | There is a narrative, but significant parts are missing. The writing does not flow. Sections headings are sparse. Mathematical markup is poor or insufficient. More and better citations are needed. | There is flow, and a clear storyline. Section headings are used to provide an outline. Mathematical markup is used correctly and sufficiently to display mathematics. Citations are sufficient in number and quality.\n",
    "**Code** | Code is missing or is not functional. Nothing is done to demonstrate that the code is operating correctly. Code is difficult to read. Results are missing or seriously incomplete. Visualization is not included. Units are inconsistent or incorrect. Algorithm is implemented incorrectly or the wrong algorithm chosen. There is significant error. | Code is mostly correct and the implementation or algorithm is a good method to use. Visualization is present, but titles and axes labels need improvement or visualization can be improved. Code is understandable and somewhat commented. Units are mostly consistent and correct.| The code runs flawlessly and is well-organized. The code is easy to read and understand. Units are indicated, consistent, and correct. Visualization is excellent. Techniques and algorithms are well-chosen and correctly implemented. Results are clear and understandable.\n",
    "**Difficulty** | The difficulty level is far beneath what one is capable of | The difficulty level is beneath what one is capable of. | The difficulty is well-matched to one's ablity.\n",
    "\n",
    "<div class=\"alert alert-success\">\n",
    "Your project should be in a separate notebook in this repository. You may write VPython programs in a separate `.py` file if this is more effective than including it in the notebook.\n",
    "</div>"
   ]
  },
  {
   "cell_type": "markdown",
   "metadata": {},
   "source": [
    "## Grading Rubric\n",
    "\n",
    "Category | Poor (0-70%) | Good (70% - 85%) | Excellent (85%-100%)\n",
    ":---: | :--- | :--- | :---\n",
    "**Narrative** | There is very little narrative. Background information is not present or lacks detail. There is no story woven with the code. Mathematical markup is not used. No citations are included. | There is a narrative, but significant parts are missing. The writing does not flow. Sections headings are sparse. Mathematical markup is poor or insufficient. More and better citations are needed. | There is flow, and a clear storyline. Section headings are used to provide an outline. Mathematical markup is used correctly and sufficiently to display mathematics. Citations are sufficient in number and quality.\n",
    "**Code** | Code is missing or is not functional. Nothing is done to demonstrate that the code is operating correctly. Code is difficult to read. Results are missing or seriously incomplete. Visualization is not included. Units are inconsistent or incorrect. Algorithm is implemented incorrectly or the wrong algorithm chosen. There is significant error. | Code is mostly correct and the implementation or algorithm is a good method to use. Visualization is present, but titles and axes labels need improvement or visualization can be improved. Code is understandable and somewhat commented. Units are mostly consistent and correct.| The code runs flawlessly and is well-organized. The code is easy to read and understand. Units are indicated, consistent, and correct. Visualization is excellent. Techniques and algorithms are well-chosen and correctly implemented. Results are clear and understandable.\n",
    "**Difficulty** | The difficulty level is far beneath what one is capable of | The difficulty level is beneath what one is capable of. | The difficulty is well-matched to one's ablity."
   ]
  },
  {
   "cell_type": "markdown",
   "metadata": {},
   "source": [
    "## Option 1\n",
    "\n",
    "Do project P5.3 (Wang). (For part (d), you do not have to use a FFT to find $r_\\infty$. You can investigate it numerically.)\n",
    "\n",
    "## Option 2\n",
    "\n",
    "Describe and characterize the Lorenz Model (described by Wang in Section 5.4 and project P5.5). All code (except perhaps the occasional Python function or short algorithm to accomplish a certain task) should be your own. This is a famous problem in the history of chaos theory. If you use others' code in any way, cite the author and source.\n",
    "\n",
    "## Option 3\n",
    "\n",
    "Do Project P5.7 (Wang). (It is not necessary to do the power spectrum since we have not learned how to calculate Fourier transforms yet.)\n",
    "\n",
    "## Option 4\n",
    "\n",
    "Select a chaotic system. Describe, investigate, and characterize the system. There are many systems described in *Nonlinear Dynamics and Chaos With Applications to Physics, Biology, Chemistry, and Engineering* by Steven Strogatz. If you use others' code in any way, cite the author and source. Do not copy entire programs. All code (except the occasional Python function or short algorithm to accomplish a certain task) should be your own.\n",
    "\n",
    "Dr. Titus also has ideas for an oscillating charged particle and an oscillating magnet that may exhibit chaotic behavior. You can investigate these systems.\n",
    "\n",
    "## Option 5 (a bit easier than the others)\n",
    "\n",
    "Create Poincaré Maps for the damped driven pendulum. See Section 5.3.2 (Wang). "
   ]
  },
  {
   "cell_type": "code",
   "execution_count": null,
   "metadata": {},
   "outputs": [],
   "source": []
  }
 ],
 "metadata": {
  "kernelspec": {
   "display_name": "Python 3",
   "language": "python",
   "name": "python3"
  },
  "language_info": {
   "codemirror_mode": {
    "name": "ipython",
    "version": 3
   },
   "file_extension": ".py",
   "mimetype": "text/x-python",
   "name": "python",
   "nbconvert_exporter": "python",
   "pygments_lexer": "ipython3",
   "version": "3.8.5"
  }
 },
 "nbformat": 4,
 "nbformat_minor": 2
}
